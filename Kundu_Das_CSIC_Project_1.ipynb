{
  "nbformat": 4,
  "nbformat_minor": 0,
  "metadata": {
    "colab": {
      "name": "Copy of CSIC_Project-1-final.ipynb",
      "provenance": [],
      "collapsed_sections": []
    },
    "kernelspec": {
      "name": "python3",
      "display_name": "Python 3"
    }
  },
  "cells": [
    {
      "cell_type": "code",
      "metadata": {
        "id": "JYeG6eH8n3wW",
        "colab_type": "code",
        "colab": {}
      },
      "source": [
        "import tensorflow as tf\n",
        "import numpy as np\n",
        "import matplotlib.pyplot as plt"
      ],
      "execution_count": 0,
      "outputs": []
    },
    {
      "cell_type": "code",
      "metadata": {
        "id": "tqhuS3bln8GO",
        "colab_type": "code",
        "colab": {
          "base_uri": "https://localhost:8080/",
          "height": 51
        },
        "outputId": "88d0e543-d85d-476f-a008-10e4c61db6cf"
      },
      "source": [
        "# Load data\n",
        "((x_1, y_1), (x_2, y_2)) = tf.keras.datasets.mnist.load_data()\n",
        "\n",
        "x_1= x_1 / 255.\n",
        "x_1 = x_1.astype(np.float32)\n",
        "x_1 = np.reshape(x_1, (x_1.shape[0], 784))\n",
        "x_2= x_2 / 255.\n",
        "x_2 = x_2.astype(np.float32)\n",
        "x_2 = np.reshape(x_2, (x_2.shape[0], 784))\n",
        "x=np.concatenate((x_1,x_2),axis=0)"
      ],
      "execution_count": 2,
      "outputs": [
        {
          "output_type": "stream",
          "text": [
            "Downloading data from https://storage.googleapis.com/tensorflow/tf-keras-datasets/mnist.npz\n",
            "11493376/11490434 [==============================] - 0s 0us/step\n"
          ],
          "name": "stdout"
        }
      ]
    },
    {
      "cell_type": "code",
      "metadata": {
        "id": "4che18LRoMpm",
        "colab_type": "code",
        "colab": {}
      },
      "source": [
        "y_1=np.reshape(y_1,[y_1.shape[0],1])\n",
        "y_2=np.reshape(y_2,[y_2.shape[0],1])\n",
        "#y=np.concatenate((x_1,x_2),axis=0)"
      ],
      "execution_count": 0,
      "outputs": []
    },
    {
      "cell_type": "code",
      "metadata": {
        "id": "8IyRjrUxoNeB",
        "colab_type": "code",
        "outputId": "eff372aa-07c0-4e7a-87eb-f4c155836fea",
        "colab": {
          "base_uri": "https://localhost:8080/",
          "height": 34
        }
      },
      "source": [
        "mean = x.mean(axis = 1)\n",
        "x = x - mean[:,None]\n",
        "x.shape"
      ],
      "execution_count": 4,
      "outputs": [
        {
          "output_type": "execute_result",
          "data": {
            "text/plain": [
              "(70000, 784)"
            ]
          },
          "metadata": {
            "tags": []
          },
          "execution_count": 4
        }
      ]
    },
    {
      "cell_type": "code",
      "metadata": {
        "id": "FkAwSieloPbt",
        "colab_type": "code",
        "colab": {}
      },
      "source": [
        "s, u, v = tf.linalg.svd(x)"
      ],
      "execution_count": 0,
      "outputs": []
    },
    {
      "cell_type": "code",
      "metadata": {
        "id": "gE4m61XNoRed",
        "colab_type": "code",
        "colab": {}
      },
      "source": [
        "s = tf.linalg.diag(s)"
      ],
      "execution_count": 0,
      "outputs": []
    },
    {
      "cell_type": "code",
      "metadata": {
        "id": "K7L-LvIgobOb",
        "colab_type": "code",
        "outputId": "36e17694-6951-4bac-9042-2fcd1c27b3b8",
        "colab": {
          "base_uri": "https://localhost:8080/",
          "height": 34
        }
      },
      "source": [
        "#Horn's Parallel Analysis\n",
        "Sigma=(1/x.shape[0])*np.matmul(np.transpose(x),x)\n",
        "Sigma.shape"
      ],
      "execution_count": 7,
      "outputs": [
        {
          "output_type": "execute_result",
          "data": {
            "text/plain": [
              "(784, 784)"
            ]
          },
          "metadata": {
            "tags": []
          },
          "execution_count": 7
        }
      ]
    },
    {
      "cell_type": "code",
      "metadata": {
        "id": "igr06dA_pTVx",
        "colab_type": "code",
        "outputId": "041968b5-7ca4-4c95-f2be-e2083a61d679",
        "colab": {
          "base_uri": "https://localhost:8080/",
          "height": 34
        }
      },
      "source": [
        "evals=np.linalg.eigvalsh(Sigma)\n",
        "evals.shape"
      ],
      "execution_count": 8,
      "outputs": [
        {
          "output_type": "execute_result",
          "data": {
            "text/plain": [
              "(784,)"
            ]
          },
          "metadata": {
            "tags": []
          },
          "execution_count": 8
        }
      ]
    },
    {
      "cell_type": "code",
      "metadata": {
        "id": "wopLbcDdp4eo",
        "colab_type": "code",
        "outputId": "54758863-fb58-4990-e72a-e32c803776c0",
        "colab": {
          "base_uri": "https://localhost:8080/",
          "height": 34
        }
      },
      "source": [
        "evals=np.reshape(evals,[evals.shape[0],1])\n",
        "evals.shape"
      ],
      "execution_count": 9,
      "outputs": [
        {
          "output_type": "execute_result",
          "data": {
            "text/plain": [
              "(784, 1)"
            ]
          },
          "metadata": {
            "tags": []
          },
          "execution_count": 9
        }
      ]
    },
    {
      "cell_type": "code",
      "metadata": {
        "id": "a8F1Zk6TqPq3",
        "colab_type": "code",
        "colab": {}
      },
      "source": [
        "evals1=np.sort(evals)\n",
        "evals1=evals1[::-1]"
      ],
      "execution_count": 0,
      "outputs": []
    },
    {
      "cell_type": "code",
      "metadata": {
        "id": "A_gdOq9Pqgfn",
        "colab_type": "code",
        "outputId": "b1087293-5c2b-4ccf-c88e-33f3e39b6f1e",
        "colab": {
          "base_uri": "https://localhost:8080/",
          "height": 282
        }
      },
      "source": [
        "plt.plot(evals1)"
      ],
      "execution_count": 11,
      "outputs": [
        {
          "output_type": "execute_result",
          "data": {
            "text/plain": [
              "[<matplotlib.lines.Line2D at 0x7f522a5aa278>]"
            ]
          },
          "metadata": {
            "tags": []
          },
          "execution_count": 11
        },
        {
          "output_type": "display_data",
          "data": {
            "image/png": "[encoded data removed]",
            "text/plain": [
              "<Figure size 432x288 with 1 Axes>"
            ]
          },
          "metadata": {
            "tags": []
          }
        }
      ]
    },
    {
      "cell_type": "code",
      "metadata": {
        "id": "DPQgDZ96sWrZ",
        "colab_type": "code",
        "outputId": "131b6c90-b096-4562-c66d-501451169a16",
        "colab": {
          "base_uri": "https://localhost:8080/",
          "height": 34
        }
      },
      "source": [
        "counts=np.zeros(shape=evals.shape)\n",
        "counts.shape"
      ],
      "execution_count": 12,
      "outputs": [
        {
          "output_type": "execute_result",
          "data": {
            "text/plain": [
              "(784, 1)"
            ]
          },
          "metadata": {
            "tags": []
          },
          "execution_count": 12
        }
      ]
    },
    {
      "cell_type": "code",
      "metadata": {
        "id": "XfTUihURrP3V",
        "colab_type": "code",
        "colab": {}
      },
      "source": [
        "R=50;\n",
        "counts=np.zeros(shape=evals.shape)\n",
        "#shuffledY=np.zeros(shape=x.shape)\n",
        "shuffledY=x\n",
        "for i in range(R):\n",
        "   \n",
        "    for j in range(shuffledY.shape[1]):\n",
        "        np.random.shuffle(shuffledY[:,j])\n",
        "    \n",
        "    Sigma1=(1/x.shape[0])*np.matmul(np.transpose(shuffledY),shuffledY)\n",
        "    e=np.linalg.eigvalsh(Sigma1)\n",
        "    e1=np.reshape(e,[e.shape[0],1])\n",
        "    e1=np.sort(e1)\n",
        "    e2=e1[::-1]\n",
        "\n",
        "    for k in range(counts.shape[0]):\n",
        "       if(e2[k,0]>evals1[k,0]):\n",
        "           counts[k,0]=counts[k,0]+1;\n",
        "         \n",
        "pvals=(counts+1)/(R+1)\n"
      ],
      "execution_count": 0,
      "outputs": []
    },
    {
      "cell_type": "code",
      "metadata": {
        "id": "_UyZFR47xUdh",
        "colab_type": "code",
        "outputId": "a4c854c0-1f1e-4fe2-fe97-35a36abc63d8",
        "colab": {
          "base_uri": "https://localhost:8080/",
          "height": 282
        }
      },
      "source": [
        "plt.plot(pvals)"
      ],
      "execution_count": 14,
      "outputs": [
        {
          "output_type": "execute_result",
          "data": {
            "text/plain": [
              "[<matplotlib.lines.Line2D at 0x7f522a0f5278>]"
            ]
          },
          "metadata": {
            "tags": []
          },
          "execution_count": 14
        },
        {
          "output_type": "display_data",
          "data": {
            "image/png": "[encoded data removed]",
            "text/plain": [
              "<Figure size 432x288 with 1 Axes>"
            ]
          },
          "metadata": {
            "tags": []
          }
        }
      ]
    },
    {
      "cell_type": "code",
      "metadata": {
        "id": "0BYayz6Crabx",
        "colab_type": "code",
        "outputId": "2c502c82-fc42-4a53-a664-78dc14316361",
        "colab": {
          "base_uri": "https://localhost:8080/",
          "height": 34
        }
      },
      "source": [
        "temp=np.argwhere(pvals<1)\n",
        "temp[-1,0] #finding thr minimum k which has pvalue=1\n",
        "\n"
      ],
      "execution_count": 15,
      "outputs": [
        {
          "output_type": "execute_result",
          "data": {
            "text/plain": [
              "46"
            ]
          },
          "metadata": {
            "tags": []
          },
          "execution_count": 15
        }
      ]
    },
    {
      "cell_type": "code",
      "metadata": {
        "id": "e2zQiNyly9Q4",
        "colab_type": "code",
        "outputId": "032d45f1-8ef0-4642-be79-7c24372ac1bc",
        "colab": {
          "base_uri": "https://localhost:8080/",
          "height": 51
        }
      },
      "source": [
        "#k = temp[-1,0]+5 #Reduced Dimension of dataset\n",
        "k=51\n",
        "x_truncated = tf.matmul(u[:,0:k], s[0:k,0:k])\n",
        "print('original data shape',x.shape)\n",
        "print('reduced data shape', x_truncated.shape)"
      ],
      "execution_count": 16,
      "outputs": [
        {
          "output_type": "stream",
          "text": [
            "original data shape (70000, 784)\n",
            "reduced data shape (70000, 51)\n"
          ],
          "name": "stdout"
        }
      ]
    },
    {
      "cell_type": "code",
      "metadata": {
        "id": "4fy2yJ1szChe",
        "colab_type": "code",
        "colab": {}
      },
      "source": [
        "from tensorflow import keras\n",
        "# Network and training parameters. \n",
        "EPOCHS = 15\n",
        "BATCH_SIZE = 128\n",
        "VERBOSE = 1\n",
        "NB_CLASSES = 10 \n",
        "N_HIDDEN = 128\n",
        "VALIDATION_SPLIT = 0.2 # validation set split"
      ],
      "execution_count": 0,
      "outputs": []
    },
    {
      "cell_type": "code",
      "metadata": {
        "id": "z0B0Wh-kgHmM",
        "colab_type": "code",
        "colab": {}
      },
      "source": [
        "x_train=x_truncated[0:60000,:]\n",
        "x_test=x_truncated[60000:70000,:]\n",
        "y_train=y_1\n",
        "y_test=y_2"
      ],
      "execution_count": 0,
      "outputs": []
    },
    {
      "cell_type": "code",
      "metadata": {
        "id": "iicOMbWQglax",
        "colab_type": "code",
        "outputId": "fdb40cf4-118c-47e3-b43e-05d3e7bfbabe",
        "colab": {
          "base_uri": "https://localhost:8080/",
          "height": 51
        }
      },
      "source": [
        "print(x_train.shape[0], 'train samples') \n",
        "print(x_test.shape[0], 'test samples')\n",
        "# One-hot representation of the labels.\n",
        "y_train = tf.keras.utils.to_categorical(y_train, NB_CLASSES) \n",
        "y_test = tf.keras.utils.to_categorical(y_test, NB_CLASSES)"
      ],
      "execution_count": 19,
      "outputs": [
        {
          "output_type": "stream",
          "text": [
            "60000 train samples\n",
            "10000 test samples\n"
          ],
          "name": "stdout"
        }
      ]
    },
    {
      "cell_type": "code",
      "metadata": {
        "id": "82A1Ducig2ky",
        "colab_type": "code",
        "outputId": "a5b270ed-ed93-49bf-b5df-395eead41008",
        "colab": {
          "base_uri": "https://localhost:8080/",
          "height": 255
        }
      },
      "source": [
        "# Build the model.\n",
        "model = tf.keras.models.Sequential() \n",
        "model.add(keras.layers.Dense(N_HIDDEN, input_shape=(k,), name='dense_layer', activation='relu')) \n",
        "model.add(keras.layers.Dense(N_HIDDEN, name='dense_layer_2', activation='relu')) \n",
        "model.add(keras.layers.Dense(NB_CLASSES, name='dense_layer_3', activation='softmax'))\n",
        "# Summary of the model. \n",
        "model.summary()\n"
      ],
      "execution_count": 20,
      "outputs": [
        {
          "output_type": "stream",
          "text": [
            "Model: \"sequential\"\n",
            "_________________________________________________________________\n",
            "Layer (type)                 Output Shape              Param #   \n",
            "=================================================================\n",
            "dense_layer (Dense)          (None, 128)               6656      \n",
            "_________________________________________________________________\n",
            "dense_layer_2 (Dense)        (None, 128)               16512     \n",
            "_________________________________________________________________\n",
            "dense_layer_3 (Dense)        (None, 10)                1290      \n",
            "=================================================================\n",
            "Total params: 24,458\n",
            "Trainable params: 24,458\n",
            "Non-trainable params: 0\n",
            "_________________________________________________________________\n"
          ],
          "name": "stdout"
        }
      ]
    },
    {
      "cell_type": "code",
      "metadata": {
        "id": "wNcMJqaYhzVc",
        "colab_type": "code",
        "colab": {}
      },
      "source": [
        "# Compiling the model. \n",
        "model.compile(optimizer='Adam',loss='categorical_crossentropy', metrics=['accuracy'])"
      ],
      "execution_count": 0,
      "outputs": []
    },
    {
      "cell_type": "code",
      "metadata": {
        "id": "oJ3Z6pEJh-Lx",
        "colab_type": "code",
        "outputId": "d1337edb-a152-4435-8d0e-71a6ccfd020b",
        "colab": {
          "base_uri": "https://localhost:8080/",
          "height": 544
        }
      },
      "source": [
        "# Training the model. \n",
        "model.fit(x_train, y_train, batch_size=BATCH_SIZE, epochs=EPOCHS, verbose=VERBOSE, validation_split=VALIDATION_SPLIT)"
      ],
      "execution_count": 22,
      "outputs": [
        {
          "output_type": "stream",
          "text": [
            "Epoch 1/15\n",
            "375/375 [==============================] - 1s 3ms/step - loss: 0.4055 - accuracy: 0.8885 - val_loss: 0.1775 - val_accuracy: 0.9488\n",
            "Epoch 2/15\n",
            "375/375 [==============================] - 1s 2ms/step - loss: 0.1492 - accuracy: 0.9561 - val_loss: 0.1237 - val_accuracy: 0.9632\n",
            "Epoch 3/15\n",
            "375/375 [==============================] - 1s 2ms/step - loss: 0.1056 - accuracy: 0.9688 - val_loss: 0.1039 - val_accuracy: 0.9704\n",
            "Epoch 4/15\n",
            "375/375 [==============================] - 1s 2ms/step - loss: 0.0817 - accuracy: 0.9762 - val_loss: 0.0973 - val_accuracy: 0.9710\n",
            "Epoch 5/15\n",
            "375/375 [==============================] - 1s 2ms/step - loss: 0.0675 - accuracy: 0.9801 - val_loss: 0.0920 - val_accuracy: 0.9731\n",
            "Epoch 6/15\n",
            "375/375 [==============================] - 1s 2ms/step - loss: 0.0564 - accuracy: 0.9827 - val_loss: 0.0866 - val_accuracy: 0.9760\n",
            "Epoch 7/15\n",
            "375/375 [==============================] - 1s 2ms/step - loss: 0.0480 - accuracy: 0.9860 - val_loss: 0.0855 - val_accuracy: 0.9753\n",
            "Epoch 8/15\n",
            "375/375 [==============================] - 1s 2ms/step - loss: 0.0407 - accuracy: 0.9879 - val_loss: 0.0847 - val_accuracy: 0.9760\n",
            "Epoch 9/15\n",
            "375/375 [==============================] - 1s 2ms/step - loss: 0.0355 - accuracy: 0.9891 - val_loss: 0.0860 - val_accuracy: 0.9762\n",
            "Epoch 10/15\n",
            "375/375 [==============================] - 1s 2ms/step - loss: 0.0311 - accuracy: 0.9907 - val_loss: 0.0911 - val_accuracy: 0.9742\n",
            "Epoch 11/15\n",
            "375/375 [==============================] - 1s 2ms/step - loss: 0.0277 - accuracy: 0.9916 - val_loss: 0.0895 - val_accuracy: 0.9763\n",
            "Epoch 12/15\n",
            "375/375 [==============================] - 1s 2ms/step - loss: 0.0223 - accuracy: 0.9938 - val_loss: 0.0850 - val_accuracy: 0.9786\n",
            "Epoch 13/15\n",
            "375/375 [==============================] - 1s 2ms/step - loss: 0.0195 - accuracy: 0.9948 - val_loss: 0.0886 - val_accuracy: 0.9763\n",
            "Epoch 14/15\n",
            "375/375 [==============================] - 1s 2ms/step - loss: 0.0183 - accuracy: 0.9944 - val_loss: 0.0874 - val_accuracy: 0.9787\n",
            "Epoch 15/15\n",
            "375/375 [==============================] - 1s 2ms/step - loss: 0.0155 - accuracy: 0.9954 - val_loss: 0.0935 - val_accuracy: 0.9764\n"
          ],
          "name": "stdout"
        },
        {
          "output_type": "execute_result",
          "data": {
            "text/plain": [
              "<tensorflow.python.keras.callbacks.History at 0x7f5229292278>"
            ]
          },
          "metadata": {
            "tags": []
          },
          "execution_count": 22
        }
      ]
    },
    {
      "cell_type": "code",
      "metadata": {
        "id": "9UjHEMKIiD7Z",
        "colab_type": "code",
        "outputId": "1bce8cdf-7b53-4bf2-82cf-2e417d9a4095",
        "colab": {
          "base_uri": "https://localhost:8080/",
          "height": 51
        }
      },
      "source": [
        "# Evaluating the model.\n",
        "test_loss, test_acc = model.evaluate(x_test, y_test) \n",
        "print('Test accuracy with reduced Dimensions k=46:', test_acc)"
      ],
      "execution_count": 23,
      "outputs": [
        {
          "output_type": "stream",
          "text": [
            "313/313 [==============================] - 0s 1ms/step - loss: 0.0758 - accuracy: 0.9792\n",
            "Test accuracy with reduced Dimensions k=46: 0.979200005531311\n"
          ],
          "name": "stdout"
        }
      ]
    },
    {
      "cell_type": "code",
      "metadata": {
        "id": "s7L7GRy9oCco",
        "colab_type": "code",
        "colab": {}
      },
      "source": [
        "y_score=model.predict(x_test)\n",
        "y_score_classes=y_score.argmax(axis=-1)\n",
        "y_test_classes=y_test.argmax(axis=-1)\n",
        "ConfMatrix=tf.math.confusion_matrix(y_test_classes,y_score_classes,num_classes=10)"
      ],
      "execution_count": 0,
      "outputs": []
    },
    {
      "cell_type": "code",
      "metadata": {
        "id": "y2ixvpxtRR0z",
        "colab_type": "code",
        "colab": {}
      },
      "source": [
        "def plot_confusion_matrix(cm,\n",
        "                          target_names,\n",
        "                          title='Confusion matrix',\n",
        "                          cmap=None,\n",
        "                          normalize=True):\n",
        "    \"\"\"\n",
        "    given a sklearn confusion matrix (cm), make a nice plot\n",
        "\n",
        "    Arguments\n",
        "    ---------\n",
        "    cm:           confusion matrix from sklearn.metrics.confusion_matrix\n",
        "\n",
        "    target_names: given classification classes such as [0, 1, 2]\n",
        "                  the class names, for example: ['high', 'medium', 'low']\n",
        "\n",
        "    title:        the text to display at the top of the matrix\n",
        "\n",
        "    cmap:         the gradient of the values displayed from matplotlib.pyplot.cm\n",
        "                  see http://matplotlib.org/examples/color/colormaps_reference.html\n",
        "                  plt.get_cmap('jet') or plt.cm.Blues\n",
        "\n",
        "    normalize:    If False, plot the raw numbers\n",
        "                  If True, plot the proportions\n",
        "\n",
        "    Usage\n",
        "    -----\n",
        "    plot_confusion_matrix(cm           = cm,                  # confusion matrix created by\n",
        "                                                              # sklearn.metrics.confusion_matrix\n",
        "                          normalize    = True,                # show proportions\n",
        "                          target_names = y_labels_vals,       # list of names of the classes\n",
        "                          title        = best_estimator_name) # title of graph\n",
        "\n",
        "    Citiation\n",
        "    ---------\n",
        "    http://scikit-learn.org/stable/auto_examples/model_selection/plot_confusion_matrix.html\n",
        "\n",
        "    \"\"\"\n",
        "    import matplotlib.pyplot as plt\n",
        "    import numpy as np\n",
        "    import itertools\n",
        "\n",
        "    accuracy = np.trace(cm) / float(np.sum(cm))\n",
        "    misclass = 1 - accuracy\n",
        "\n",
        "    if cmap is None:\n",
        "        cmap = plt.get_cmap('Blues')\n",
        "\n",
        "    plt.figure(figsize=(8, 6))\n",
        "    plt.imshow(cm, interpolation='nearest', cmap=cmap)\n",
        "    plt.title(title)\n",
        "    plt.colorbar()\n",
        "\n",
        "    if target_names is not None:\n",
        "        tick_marks = np.arange(len(target_names))\n",
        "        plt.xticks(tick_marks, target_names, rotation=45)\n",
        "        plt.yticks(tick_marks, target_names)\n",
        "\n",
        "    if normalize:\n",
        "        cm = cm.astype('float') / cm.sum(axis=1)[:, np.newaxis]\n",
        "\n",
        "\n",
        "    thresh = cm.max() / 1.5 if normalize else cm.max() / 2\n",
        "    for i, j in itertools.product(range(cm.shape[0]), range(cm.shape[1])):\n",
        "        if normalize:\n",
        "            plt.text(j, i, \"{:0.4f}\".format(cm[i, j]),\n",
        "                     horizontalalignment=\"center\",\n",
        "                     color=\"white\" if cm[i, j] > thresh else \"black\")\n",
        "        else:\n",
        "            plt.text(j, i, \"{:,}\".format(cm[i, j]),\n",
        "                     horizontalalignment=\"center\",\n",
        "                     color=\"white\" if cm[i, j] > thresh else \"black\")\n",
        "\n",
        "\n",
        "    plt.tight_layout()\n",
        "    plt.ylabel('True label')\n",
        "    plt.xlabel('Predicted label\\naccuracy={:0.4f}; misclass={:0.4f}'.format(accuracy, misclass))\n",
        "    plt.show()\n"
      ],
      "execution_count": 0,
      "outputs": []
    },
    {
      "cell_type": "code",
      "metadata": {
        "id": "S7hIUmu62zTd",
        "colab_type": "code",
        "outputId": "5d15cb25-bdcc-4414-a209-02368a3b5449",
        "colab": {
          "base_uri": "https://localhost:8080/",
          "height": 467
        }
      },
      "source": [
        "plot_confusion_matrix(cm           = np.reshape(ConfMatrix, ConfMatrix.shape), \n",
        "                      normalize    = False,\n",
        "                      target_names = ['0', '1', '2','3', '4', '5', '6', '7', '8', '9'],\n",
        "                      title        = \"Confusion Matrix\")"
      ],
      "execution_count": 27,
      "outputs": [
        {
          "output_type": "display_data",
          "data": {
            "image/png": "[encoded data removed]",
            "text/plain": [
              "<Figure size 576x432 with 2 Axes>"
            ]
          },
          "metadata": {
            "tags": []
          }
        }
      ]
    },
    {
      "cell_type": "code",
      "metadata": {
        "id": "w8MIMq1IpS7Y",
        "colab_type": "code",
        "outputId": "09c4d58b-c220-479d-b65e-9135933aa9eb",
        "colab": {
          "base_uri": "https://localhost:8080/",
          "height": 467
        }
      },
      "source": [
        "plot_confusion_matrix(cm           = np.reshape(ConfMatrix, ConfMatrix.shape), \n",
        "                      normalize    = True,\n",
        "                      target_names = ['0', '1', '2','3', '4', '5', '6', '7', '8', '9'],\n",
        "                      title        = \"Confusion Matrix\")"
      ],
      "execution_count": 28,
      "outputs": [
        {
          "output_type": "display_data",
          "data": {
            "image/png": "[encoded data removed]",
            "text/plain": [
              "<Figure size 576x432 with 2 Axes>"
            ]
          },
          "metadata": {
            "tags": []
          }
        }
      ]
    },
    {
      "cell_type": "code",
      "metadata": {
        "id": "xI3NgDo_8n5i",
        "colab_type": "code",
        "colab": {}
      },
      "source": [
        ""
      ],
      "execution_count": 0,
      "outputs": []
    },
    {
      "cell_type": "code",
      "metadata": {
        "id": "LNB49S_trZI1",
        "colab_type": "code",
        "outputId": "73a8a8fd-8a9d-4b58-e1db-415549baebef",
        "colab": {
          "base_uri": "https://localhost:8080/",
          "height": 322
        }
      },
      "source": [
        "import seaborn as sns; sns.set()\n",
        "ax = sns.heatmap(ConfMatrix)"
      ],
      "execution_count": 29,
      "outputs": [
        {
          "output_type": "stream",
          "text": [
            "/usr/local/lib/python3.6/dist-packages/statsmodels/tools/_testing.py:19: FutureWarning: pandas.util.testing is deprecated. Use the functions in the public API at pandas.testing instead.\n",
            "  import pandas.util.testing as tm\n"
          ],
          "name": "stderr"
        },
        {
          "output_type": "display_data",
          "data": {
            "image/png": "[encoded data removed]",
            "text/plain": [
              "<Figure size 432x288 with 2 Axes>"
            ]
          },
          "metadata": {
            "tags": []
          }
        }
      ]
    },
    {
      "cell_type": "code",
      "metadata": {
        "id": "8PYgPPEUibYF",
        "colab_type": "code",
        "outputId": "b84e72b3-085f-4cb9-c5b1-85b1c91ab10c",
        "colab": {
          "base_uri": "https://localhost:8080/",
          "height": 51
        }
      },
      "source": [
        "mnist = keras.datasets.mnist\n",
        "(X_train, Y_train), (X_test, Y_test) = mnist.load_data()\n",
        "\n",
        "#X_train is 60000 rows of 28x28 values --> reshaped in 60000 x 784\n",
        "RESHAPED = 784\n",
        "#\n",
        "X_train = X_train.reshape(60000, RESHAPED)\n",
        "X_test = X_test.reshape(10000, RESHAPED)\n",
        "X_train = X_train.astype('float32')\n",
        "X_test = X_test.astype('float32')\n",
        "\n",
        "#normalize in [0,1]\n",
        "X_train, X_test = X_train / 255.0, X_test / 255.0\n",
        "print(X_train.shape[0], 'train samples')\n",
        "print(X_test.shape[0], 'test samples')"
      ],
      "execution_count": 30,
      "outputs": [
        {
          "output_type": "stream",
          "text": [
            "60000 train samples\n",
            "10000 test samples\n"
          ],
          "name": "stdout"
        }
      ]
    },
    {
      "cell_type": "code",
      "metadata": {
        "id": "e_0rK9SwvVCc",
        "colab_type": "code",
        "outputId": "e78d4059-3b3d-408e-89b4-3e219361a9ed",
        "colab": {
          "base_uri": "https://localhost:8080/",
          "height": 255
        }
      },
      "source": [
        "Y_train = tf.keras.utils.to_categorical(Y_train, NB_CLASSES)\n",
        "Y_test = tf.keras.utils.to_categorical(Y_test, NB_CLASSES)\n",
        "\n",
        "#build the model\n",
        "model1 = tf.keras.models.Sequential()\n",
        "model1.add(keras.layers.Dense(N_HIDDEN,\n",
        "   \t\tinput_shape=(RESHAPED,),\n",
        "   \t\tname='dense_layer', activation='relu'))\n",
        "model1.add(keras.layers.Dense(N_HIDDEN,\n",
        "   \t\tname='dense_layer_2', activation='relu'))\n",
        "model1.add(keras.layers.Dense(NB_CLASSES,\n",
        "   \t\tname='dense_layer_3', activation='softmax'))\n",
        "\n",
        "# summary of the model\n",
        "model1.summary()\n"
      ],
      "execution_count": 31,
      "outputs": [
        {
          "output_type": "stream",
          "text": [
            "Model: \"sequential_1\"\n",
            "_________________________________________________________________\n",
            "Layer (type)                 Output Shape              Param #   \n",
            "=================================================================\n",
            "dense_layer (Dense)          (None, 128)               100480    \n",
            "_________________________________________________________________\n",
            "dense_layer_2 (Dense)        (None, 128)               16512     \n",
            "_________________________________________________________________\n",
            "dense_layer_3 (Dense)        (None, 10)                1290      \n",
            "=================================================================\n",
            "Total params: 118,282\n",
            "Trainable params: 118,282\n",
            "Non-trainable params: 0\n",
            "_________________________________________________________________\n"
          ],
          "name": "stdout"
        }
      ]
    },
    {
      "cell_type": "code",
      "metadata": {
        "id": "VTD3qXDjvetN",
        "colab_type": "code",
        "colab": {}
      },
      "source": [
        "model1.compile(optimizer='Adam', loss='categorical_crossentropy',metrics=['accuracy'])"
      ],
      "execution_count": 0,
      "outputs": []
    },
    {
      "cell_type": "code",
      "metadata": {
        "id": "dRzcPHIfwM2t",
        "colab_type": "code",
        "outputId": "3b096d37-dd27-4a95-f4ef-c6fe3d9ba6e4",
        "colab": {
          "base_uri": "https://localhost:8080/",
          "height": 544
        }
      },
      "source": [
        "model1.fit(X_train, Y_train, batch_size=BATCH_SIZE, epochs=EPOCHS, verbose=VERBOSE, validation_split=VALIDATION_SPLIT)\n"
      ],
      "execution_count": 33,
      "outputs": [
        {
          "output_type": "stream",
          "text": [
            "Epoch 1/15\n",
            "375/375 [==============================] - 2s 4ms/step - loss: 0.3540 - accuracy: 0.9015 - val_loss: 0.1701 - val_accuracy: 0.9525\n",
            "Epoch 2/15\n",
            "375/375 [==============================] - 1s 4ms/step - loss: 0.1402 - accuracy: 0.9585 - val_loss: 0.1348 - val_accuracy: 0.9603\n",
            "Epoch 3/15\n",
            "375/375 [==============================] - 1s 4ms/step - loss: 0.0981 - accuracy: 0.9718 - val_loss: 0.1091 - val_accuracy: 0.9683\n",
            "Epoch 4/15\n",
            "375/375 [==============================] - 1s 4ms/step - loss: 0.0730 - accuracy: 0.9784 - val_loss: 0.0970 - val_accuracy: 0.9720\n",
            "Epoch 5/15\n",
            "375/375 [==============================] - 1s 4ms/step - loss: 0.0568 - accuracy: 0.9834 - val_loss: 0.0940 - val_accuracy: 0.9725\n",
            "Epoch 6/15\n",
            "375/375 [==============================] - 1s 4ms/step - loss: 0.0466 - accuracy: 0.9861 - val_loss: 0.0951 - val_accuracy: 0.9719\n",
            "Epoch 7/15\n",
            "375/375 [==============================] - 1s 4ms/step - loss: 0.0363 - accuracy: 0.9891 - val_loss: 0.0940 - val_accuracy: 0.9747\n",
            "Epoch 8/15\n",
            "375/375 [==============================] - 1s 4ms/step - loss: 0.0312 - accuracy: 0.9903 - val_loss: 0.0896 - val_accuracy: 0.9747\n",
            "Epoch 9/15\n",
            "375/375 [==============================] - 1s 4ms/step - loss: 0.0242 - accuracy: 0.9928 - val_loss: 0.1051 - val_accuracy: 0.9719\n",
            "Epoch 10/15\n",
            "375/375 [==============================] - 1s 4ms/step - loss: 0.0227 - accuracy: 0.9930 - val_loss: 0.0925 - val_accuracy: 0.9747\n",
            "Epoch 11/15\n",
            "375/375 [==============================] - 1s 4ms/step - loss: 0.0184 - accuracy: 0.9943 - val_loss: 0.1086 - val_accuracy: 0.9735\n",
            "Epoch 12/15\n",
            "375/375 [==============================] - 1s 4ms/step - loss: 0.0163 - accuracy: 0.9945 - val_loss: 0.1106 - val_accuracy: 0.9749\n",
            "Epoch 13/15\n",
            "375/375 [==============================] - 1s 4ms/step - loss: 0.0136 - accuracy: 0.9958 - val_loss: 0.1192 - val_accuracy: 0.9740\n",
            "Epoch 14/15\n",
            "375/375 [==============================] - 1s 4ms/step - loss: 0.0150 - accuracy: 0.9954 - val_loss: 0.1122 - val_accuracy: 0.9747\n",
            "Epoch 15/15\n",
            "375/375 [==============================] - 1s 4ms/step - loss: 0.0099 - accuracy: 0.9970 - val_loss: 0.1032 - val_accuracy: 0.9780\n"
          ],
          "name": "stdout"
        },
        {
          "output_type": "execute_result",
          "data": {
            "text/plain": [
              "<tensorflow.python.keras.callbacks.History at 0x7f52266736d8>"
            ]
          },
          "metadata": {
            "tags": []
          },
          "execution_count": 33
        }
      ]
    },
    {
      "cell_type": "code",
      "metadata": {
        "id": "D4YnAql0wTHe",
        "colab_type": "code",
        "outputId": "9dd46a79-5856-4b44-adcc-b7f5f5c76576",
        "colab": {
          "base_uri": "https://localhost:8080/",
          "height": 51
        }
      },
      "source": [
        "#evaluate the model\n",
        "test_loss, test_acc = model1.evaluate(X_test, Y_test)\n",
        "print('Test accuracy with Original Dimension:', test_acc)"
      ],
      "execution_count": 34,
      "outputs": [
        {
          "output_type": "stream",
          "text": [
            "313/313 [==============================] - 0s 1ms/step - loss: 0.0901 - accuracy: 0.9770\n",
            "Test accuracy with Original Dimension: 0.9769999980926514\n"
          ],
          "name": "stdout"
        }
      ]
    },
    {
      "cell_type": "code",
      "metadata": {
        "id": "4v-6ROhEwdPM",
        "colab_type": "code",
        "outputId": "7b3ce7a3-9bb5-41f5-c2d2-63a1cf4dcc74",
        "colab": {
          "base_uri": "https://localhost:8080/",
          "height": 68
        }
      },
      "source": [
        "import time\n",
        "start_time=time.time()\n",
        "test_loss, test_acc = model.evaluate(x_test, y_test) \n",
        "print('Test accuracy with reduced Dimensions k=51:', test_acc)\n",
        "print(\"--- %s Inference Time on Test Dataset (milliseconds) ---\" % ((time.time() - start_time)*1000))"
      ],
      "execution_count": 35,
      "outputs": [
        {
          "output_type": "stream",
          "text": [
            "313/313 [==============================] - 0s 1ms/step - loss: 0.0758 - accuracy: 0.9792\n",
            "Test accuracy with reduced Dimensions k=51: 0.979200005531311\n",
            "--- 372.41315841674805 Inference Time on Test Dataset (milliseconds) ---\n"
          ],
          "name": "stdout"
        }
      ]
    },
    {
      "cell_type": "code",
      "metadata": {
        "id": "hV12math1Sg6",
        "colab_type": "code",
        "outputId": "6cf4c1bf-effe-4a6d-af96-0cad08b1b908",
        "colab": {
          "base_uri": "https://localhost:8080/",
          "height": 68
        }
      },
      "source": [
        "import time\n",
        "start_time=time.time()\n",
        "test_loss, test_acc = model1.evaluate(X_test, Y_test)\n",
        "print('Test accuracy with Original Dimension:', test_acc)\n",
        "print(\"--- %s Inference Time on Test Dataset: Original Dimension (milliseconds) ---\" % ((time.time() - start_time)*1000))"
      ],
      "execution_count": 36,
      "outputs": [
        {
          "output_type": "stream",
          "text": [
            "313/313 [==============================] - 0s 1ms/step - loss: 0.0901 - accuracy: 0.9770\n",
            "Test accuracy with Original Dimension: 0.9769999980926514\n",
            "--- 440.4637813568115 Inference Time on Test Dataset: Original Dimension (milliseconds) ---\n"
          ],
          "name": "stdout"
        }
      ]
    },
    {
      "cell_type": "code",
      "metadata": {
        "id": "WDyKj-Jw1fGV",
        "colab_type": "code",
        "colab": {}
      },
      "source": [
        ""
      ],
      "execution_count": 0,
      "outputs": []
    }
  ]
}